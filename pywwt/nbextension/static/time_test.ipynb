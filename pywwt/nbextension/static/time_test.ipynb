{
 "cells": [
  {
   "cell_type": "code",
   "execution_count": null,
   "metadata": {},
   "outputs": [],
   "source": [
    "import pywwt; print(pywwt.__version__)"
   ]
  },
  {
   "cell_type": "code",
   "execution_count": null,
   "metadata": {},
   "outputs": [],
   "source": [
    "from pywwt.jupyter import WWTJupyterWidget\n",
    "from astropy.coordinates import SkyCoord, concatenate\n",
    "from astropy import units as u\n",
    "from astropy.table import Table, Column\n",
    "from astropy.time import Time, TimeDelta\n",
    "from datetime import datetime\n",
    "import numpy as np\n",
    "import pytz"
   ]
  },
  {
   "cell_type": "markdown",
   "metadata": {},
   "source": [
    "Run `to_test.py`"
   ]
  },
  {
   "cell_type": "code",
   "execution_count": null,
   "metadata": {},
   "outputs": [],
   "source": [
    "from astropy.table import Table, Column\n",
    "from astropy.time import Time, TimeDelta\n",
    "import numpy as np\n",
    "from io import StringIO\n",
    "from base64 import b64encode"
   ]
  },
  {
   "cell_type": "code",
   "execution_count": null,
   "metadata": {},
   "outputs": [],
   "source": [
    "# download earthquake table\n",
    "EARTHQUAKES = 'https://worldwidetelescope.github.io/pywwt/data/earthquakes_2010.csv'\n",
    "q_table = Table.read(EARTHQUAKES, delimiter=',', format='ascii.basic')"
   ]
  },
  {
   "cell_type": "code",
   "execution_count": null,
   "metadata": {},
   "outputs": [],
   "source": [
    "# slice earthquake times to include only those in January, \n",
    "# then compress times so they all happen in a ten second period\n",
    "jan =  q_table[np.where(Time(q_table['time']).jd < Time('2010-01-15', format='iso').jd)]\n",
    "factor = 20/(31*24*60*60)\n",
    "start = Time('2010-01-01', format='iso')\n",
    "for i, val in enumerate(jan['time']):\n",
    "    new = start.jd + (Time(val) - start).jd * factor\n",
    "    jan['time'][i] = Time(new, format='jd').iso"
   ]
  },
  {
   "cell_type": "code",
   "execution_count": null,
   "metadata": {},
   "outputs": [],
   "source": [
    "# slice locations to the area around japan\n",
    "lons = np.intersect1d(np.where(jan['longitude'] > 135)[0],\n",
    "                      np.where(jan['longitude'] < 165)[0])\n",
    "lats = np.intersect1d(np.where(jan['latitude'] > 15)[0],\n",
    "                      np.where(jan['latitude'] < 45)[0])\n",
    "japan = jan[np.intersect1d(lons, lats)]\n",
    "japan.remove_column('place') # causes parsing issues"
   ]
  },
  {
   "cell_type": "code",
   "execution_count": null,
   "metadata": {},
   "outputs": [],
   "source": [
    "# whip up some test tables\n",
    "j1 = japan.copy(); j20 = japan.copy(); j21 = japan.copy()\n",
    "j22 = japan.copy(); j3 = japan.copy()\n",
    "\n",
    "j1['time'] = Time(japan['time']) # astropy Times\n",
    "j20['time'] = [t.datetime for t in j1['time']] # unaware datetimes\n",
    "j21['time'] = [pytz.utc.localize(t) for t in j20['time']] # UTC datetimes\n",
    "j22['time'] = [t.astimezone(pytz.timezone('America/Santiago'))\n",
    "               for t in j21['time']] # non-UTC datetimes\n",
    "j3['time'] = [t.isoformat() for t in j20['time']] # iso strings"
   ]
  },
  {
   "cell_type": "markdown",
   "metadata": {},
   "source": [
    "Back to `time_test.py`"
   ]
  },
  {
   "cell_type": "code",
   "execution_count": null,
   "metadata": {
    "scrolled": false
   },
   "outputs": [],
   "source": [
    "wwt = WWTJupyterWidget()\n",
    "wwt"
   ]
  },
  {
   "cell_type": "code",
   "execution_count": null,
   "metadata": {},
   "outputs": [],
   "source": [
    "wwt.set_view('solar system')"
   ]
  },
  {
   "cell_type": "code",
   "execution_count": null,
   "metadata": {},
   "outputs": [],
   "source": [
    "# center on Earth after shifting to proper scale\n",
    "wwt.center_on_coordinates(SkyCoord(0,0,unit=u.deg), fov=.0001 * u.deg)\n",
    "wwt.solar_system.track_object('Earth')"
   ]
  },
  {
   "cell_type": "code",
   "execution_count": null,
   "metadata": {},
   "outputs": [],
   "source": [
    "# add the earthquake layer\n",
    "jp_lay = wwt.layers.add_table_layer(table=j3, frame='Earth', lon_att='longitude',\n",
    "                                    lat_att='latitude', size_scale=50, color='#ce1141',\n",
    "                                    far_side_visible=True, time_series=True,\n",
    "                                    time_att='time', time_decay=3*u.second)"
   ]
  },
  {
   "cell_type": "code",
   "execution_count": null,
   "metadata": {},
   "outputs": [],
   "source": [
    "# rewind time to when the earthquakes took place\n",
    "wwt.set_current_time(start)"
   ]
  },
  {
   "cell_type": "code",
   "execution_count": null,
   "metadata": {},
   "outputs": [],
   "source": [
    "wwt.get_current_time()"
   ]
  },
  {
   "cell_type": "code",
   "execution_count": null,
   "metadata": {},
   "outputs": [],
   "source": [
    "# if successful, remove jp_lay and test with the other jX test tables\n",
    "jp_lay.remove()"
   ]
  },
  {
   "cell_type": "markdown",
   "metadata": {},
   "source": [
    "The points should begin to pop up now."
   ]
  }
 ],
 "metadata": {
  "kernelspec": {
   "display_name": "Python 3",
   "language": "python",
   "name": "python3"
  },
  "language_info": {
   "codemirror_mode": {
    "name": "ipython",
    "version": 3
   },
   "file_extension": ".py",
   "mimetype": "text/x-python",
   "name": "python",
   "nbconvert_exporter": "python",
   "pygments_lexer": "ipython3",
   "version": "3.6.9"
  }
 },
 "nbformat": 4,
 "nbformat_minor": 2
}
