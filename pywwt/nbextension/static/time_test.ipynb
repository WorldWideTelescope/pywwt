{
 "cells": [
  {
   "cell_type": "code",
   "execution_count": null,
   "metadata": {},
   "outputs": [],
   "source": [
    "import pywwt; print(pywwt.__version__)"
   ]
  },
  {
   "cell_type": "code",
   "execution_count": null,
   "metadata": {},
   "outputs": [],
   "source": [
    "from pywwt.jupyter import WWTJupyterWidget\n",
    "from astropy.coordinates import SkyCoord, concatenate\n",
    "from astropy import units as u\n",
    "from astropy.table import Table, Column\n",
    "from astropy.time import Time, TimeDelta\n",
    "import numpy as np"
   ]
  },
  {
   "cell_type": "markdown",
   "metadata": {},
   "source": [
    "Run `to_test.py`"
   ]
  },
  {
   "cell_type": "code",
   "execution_count": null,
   "metadata": {},
   "outputs": [],
   "source": [
    "from astropy.table import Table, Column\n",
    "from astropy.time import Time, TimeDelta\n",
    "import numpy as np\n",
    "from io import StringIO\n",
    "from base64 import b64encode"
   ]
  },
  {
   "cell_type": "code",
   "execution_count": null,
   "metadata": {},
   "outputs": [],
   "source": [
    "# download earthquake table\n",
    "EARTHQUAKES = 'https://worldwidetelescope.github.io/pywwt/data/earthquakes_2010.csv'\n",
    "q_table = Table.read(EARTHQUAKES, delimiter=',', format='ascii.basic')"
   ]
  },
  {
   "cell_type": "code",
   "execution_count": null,
   "metadata": {},
   "outputs": [],
   "source": [
    "# slice earthquake times to include only those in January, \n",
    "# then compress times so they all happen in a ten second period\n",
    "jan =  q_table[np.where(Time(q_table['time']).jd < Time('2010-01-15', format='iso').jd)]\n",
    "factor = 20/(31*24*60*60)\n",
    "start = Time('2010-01-01', format='iso')\n",
    "for i, val in enumerate(jan['time']):\n",
    "    new = start.jd + (Time(val) - start).jd * factor\n",
    "    jan['time'][i] = Time(new, format='jd').iso"
   ]
  },
  {
   "cell_type": "code",
   "execution_count": null,
   "metadata": {},
   "outputs": [],
   "source": [
    "# slice locations to the area around japan\n",
    "lons = np.intersect1d(np.where(jan['longitude'] > 135)[0],\n",
    "                      np.where(jan['longitude'] < 165)[0])\n",
    "lats = np.intersect1d(np.where(jan['latitude'] > 15)[0],\n",
    "                      np.where(jan['latitude'] < 45)[0])\n",
    "japan = jan[np.intersect1d(lons, lats)]"
   ]
  },
  {
   "cell_type": "markdown",
   "metadata": {},
   "source": [
    "Back to `time_test.py`"
   ]
  },
  {
   "cell_type": "code",
   "execution_count": null,
   "metadata": {
    "scrolled": true
   },
   "outputs": [],
   "source": [
    "wwt = WWTJupyterWidget()\n",
    "#wwt"
   ]
  },
  {
   "cell_type": "code",
   "execution_count": null,
   "metadata": {},
   "outputs": [],
   "source": [
    "wwt.set_view('solar system')"
   ]
  },
  {
   "cell_type": "code",
   "execution_count": null,
   "metadata": {},
   "outputs": [],
   "source": [
    "# center on Earth after shifting to proper scale\n",
    "wwt.center_on_coordinates(SkyCoord(0,0,unit=u.deg), fov=.0001 * u.deg)\n",
    "wwt.solar_system.track_object('Earth')"
   ]
  },
  {
   "cell_type": "code",
   "execution_count": null,
   "metadata": {},
   "outputs": [],
   "source": [
    "# add the earthquake layer\n",
    "jp_lay = wwt.layers.add_table_layer(table=japan, frame='Earth', lon_att='longitude',\n",
    "                                    lat_att='latitude', size_scale=50, color='#ff0000',\n",
    "                                    time_series=True, time_att='time',\n",
    "                                    far_side_visible=True, decay=.0001 * u.day)"
   ]
  },
  {
   "cell_type": "code",
   "execution_count": null,
   "metadata": {},
   "outputs": [],
   "source": [
    "# rewind time to when the earthquakes took place\n",
    "wwt.set_current_time(start)"
   ]
  },
  {
   "cell_type": "markdown",
   "metadata": {},
   "source": [
    "The points pop up here in the Jupyter version!"
   ]
  }
 ],
 "metadata": {
  "kernelspec": {
   "display_name": "Python 3",
   "language": "python",
   "name": "python3"
  },
  "language_info": {
   "codemirror_mode": {
    "name": "ipython",
    "version": 3
   },
   "file_extension": ".py",
   "mimetype": "text/x-python",
   "name": "python",
   "nbconvert_exporter": "python",
   "pygments_lexer": "ipython3",
   "version": "3.7.3"
  }
 },
 "nbformat": 4,
 "nbformat_minor": 2
}
